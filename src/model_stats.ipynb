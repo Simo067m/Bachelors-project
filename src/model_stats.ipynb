{
 "cells": [
  {
   "cell_type": "markdown",
   "metadata": {},
   "source": [
    "# Some statistics for models"
   ]
  },
  {
   "cell_type": "markdown",
   "metadata": {},
   "source": [
    "## ResNet"
   ]
  },
  {
   "cell_type": "markdown",
   "metadata": {},
   "source": [
    "Number of trainable parameters for each ResNet depth, IE. the number of FLOPs (Floating Point Operations), which directly corresponds to complexity."
   ]
  },
  {
   "cell_type": "code",
   "execution_count": 1,
   "metadata": {},
   "outputs": [],
   "source": [
    "import torch\n",
    "from tqdm import tqdm"
   ]
  },
  {
   "cell_type": "code",
   "execution_count": 2,
   "metadata": {},
   "outputs": [
    {
     "name": "stderr",
     "output_type": "stream",
     "text": [
      "c:\\Users\\ssjsi\\Documents\\Bachelors-project\\.venv\\Lib\\site-packages\\tqdm\\auto.py:21: TqdmWarning: IProgress not found. Please update jupyter and ipywidgets. See https://ipywidgets.readthedocs.io/en/stable/user_install.html\n",
      "  from .autonotebook import tqdm as notebook_tqdm\n"
     ]
    }
   ],
   "source": [
    "from models.resnet import ResNet, ResidualBlock\n",
    "from models.clinical_bert import bio_clinical_BERT\n",
    "from models.linear_classifier import LinearClassifier\n",
    "\n",
    "bert = bio_clinical_BERT()\n",
    "\n",
    "resnet18 = ResNet(12, 5, 18, ResidualBlock)"
   ]
  },
  {
   "cell_type": "code",
   "execution_count": 3,
   "metadata": {},
   "outputs": [
    {
     "name": "stdout",
     "output_type": "stream",
     "text": [
      "Number of trainable parameters in ResNet18: 4,111,488\n"
     ]
    }
   ],
   "source": [
    "resnet18_params = sum(p.numel() for p in resnet18.parameters() if p.requires_grad)\n",
    "print(f\"Number of trainable parameters in ResNet18: {resnet18_params:,}\")"
   ]
  },
  {
   "cell_type": "code",
   "execution_count": 4,
   "metadata": {},
   "outputs": [
    {
     "name": "stdout",
     "output_type": "stream",
     "text": [
      "Loading PTB-XL...\n",
      "Finished loading PTB-XL in 0 minutes and 2 seconds.\n"
     ]
    }
   ],
   "source": [
    "from configs.ptb_xl_configs import Configs\n",
    "from dataloader.ptb_xl import ptb_xl_data_generator\n",
    "configs = Configs()\n",
    "classifier = LinearClassifier(configs)\n",
    "train_loader, val_loader, test_loader = ptb_xl_data_generator(configs, include_text=True)"
   ]
  },
  {
   "cell_type": "code",
   "execution_count": 5,
   "metadata": {},
   "outputs": [],
   "source": [
    "from train_eval.trainer import Trainer\n",
    "device = 'cuda' if torch.cuda.is_available() else 'cpu'\n",
    "trainer = Trainer()"
   ]
  },
  {
   "cell_type": "code",
   "execution_count": 6,
   "metadata": {},
   "outputs": [],
   "source": [
    "resnet18 = resnet18.to(device)\n",
    "classifier = classifier.to(device)"
   ]
  },
  {
   "cell_type": "code",
   "execution_count": 7,
   "metadata": {},
   "outputs": [
    {
     "name": "stderr",
     "output_type": "stream",
     "text": [
      "Epoch 1 / 3: 100%|██████████| 102/102 [24:01<00:00, 14.13s/it]\n",
      "Epoch 2 / 3: 100%|██████████| 102/102 [24:46<00:00, 14.57s/it]\n",
      "Epoch 3 / 3: 100%|██████████| 102/102 [25:51<00:00, 15.21s/it]"
     ]
    },
    {
     "name": "stdout",
     "output_type": "stream",
     "text": [
      "Finished pre-training ResNet-18.\n"
     ]
    },
    {
     "name": "stderr",
     "output_type": "stream",
     "text": [
      "\n"
     ]
    }
   ],
   "source": [
    "from train_eval.loss import Loss_CE\n",
    "optimizer = torch.optim.Adam(resnet18.parameters(), lr=configs.learning_rate, weight_decay=configs.weight_decay)\n",
    "criterion = Loss_CE()\n",
    "\n",
    "losses = trainer.ecg_encoder_pre_train(resnet18, bert, train_loader, 3, optimizer, criterion, device)\n"
   ]
  },
  {
   "cell_type": "code",
   "execution_count": 8,
   "metadata": {},
   "outputs": [
    {
     "data": {
      "text/plain": [
       "[4.849668463071187, 4.849343157282062, 4.8497028631322525]"
      ]
     },
     "execution_count": 8,
     "metadata": {},
     "output_type": "execute_result"
    }
   ],
   "source": [
    "losses"
   ]
  }
 ],
 "metadata": {
  "kernelspec": {
   "display_name": ".venv",
   "language": "python",
   "name": "python3"
  },
  "language_info": {
   "codemirror_mode": {
    "name": "ipython",
    "version": 3
   },
   "file_extension": ".py",
   "mimetype": "text/x-python",
   "name": "python",
   "nbconvert_exporter": "python",
   "pygments_lexer": "ipython3",
   "version": "3.11.6"
  }
 },
 "nbformat": 4,
 "nbformat_minor": 2
}
