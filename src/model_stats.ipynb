{
 "cells": [
  {
   "cell_type": "markdown",
   "metadata": {},
   "source": [
    "# Some statistics for models"
   ]
  },
  {
   "cell_type": "markdown",
   "metadata": {},
   "source": [
    "## ResNet"
   ]
  },
  {
   "cell_type": "markdown",
   "metadata": {},
   "source": [
    "Number of trainable parameters for each ResNet depth, IE. the number of FLOPs (Floating Point Operations), which directly corresponds to complexity."
   ]
  },
  {
   "cell_type": "code",
   "execution_count": 4,
   "metadata": {},
   "outputs": [],
   "source": [
    "from models.resnet import ResNet, ResidualBlock\n",
    "\n",
    "resnet18 = ResNet(12, 5, 18, ResidualBlock)\n",
    "resnet34 = ResNet(12, 5, 34, ResidualBlock)"
   ]
  },
  {
   "cell_type": "code",
   "execution_count": 5,
   "metadata": {},
   "outputs": [
    {
     "name": "stdout",
     "output_type": "stream",
     "text": [
      "Number of trainable parameters in ResNet18: 3,851,397\n",
      "Number of trainable parameters in ResNet34: 7,225,733\n"
     ]
    }
   ],
   "source": [
    "resnet18_params = sum(p.numel() for p in resnet18.parameters() if p.requires_grad)\n",
    "resnet34_params = sum(p.numel() for p in resnet34.parameters() if p.requires_grad)\n",
    "print(f\"Number of trainable parameters in ResNet18: {resnet18_params:,}\")\n",
    "print(f\"Number of trainable parameters in ResNet34: {resnet34_params:,}\")"
   ]
  },
  {
   "cell_type": "code",
   "execution_count": 6,
   "metadata": {},
   "outputs": [],
   "source": [
    "from train_eval.trainer import Trainer\n",
    "import torch\n",
    "from torch import optim\n",
    "\n",
    "criterion = torch.nn.CrossEntropyLoss()\n",
    "\n",
    "learning_rate = 0.002\n",
    "weight_decay = 0.00001\n",
    "\n",
    "optimizer = optim.Adam(resnet18.parameters(), lr=learning_rate, weight_decay=weight_decay)\n",
    "\n",
    "trainer = Trainer(optimizer, criterion)\n"
   ]
  }
 ],
 "metadata": {
  "kernelspec": {
   "display_name": ".venv",
   "language": "python",
   "name": "python3"
  },
  "language_info": {
   "codemirror_mode": {
    "name": "ipython",
    "version": 3
   },
   "file_extension": ".py",
   "mimetype": "text/x-python",
   "name": "python",
   "nbconvert_exporter": "python",
   "pygments_lexer": "ipython3",
   "version": "3.11.6"
  }
 },
 "nbformat": 4,
 "nbformat_minor": 2
}
